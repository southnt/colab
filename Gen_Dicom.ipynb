{
  "nbformat": 4,
  "nbformat_minor": 0,
  "metadata": {
    "colab": {
      "name": "Gen_Dicom.ipynb",
      "provenance": [],
      "collapsed_sections": [],
      "authorship_tag": "ABX9TyNB3JA6rPyoLVBINGa5fk8n",
      "include_colab_link": true
    },
    "kernelspec": {
      "name": "python3",
      "display_name": "Python 3"
    },
    "language_info": {
      "name": "python"
    }
  },
  "cells": [
    {
      "cell_type": "markdown",
      "metadata": {
        "id": "view-in-github",
        "colab_type": "text"
      },
      "source": [
        "<a href=\"https://colab.research.google.com/github/southnt/colab/blob/main/Gen_Dicom.ipynb\" target=\"_parent\"><img src=\"https://colab.research.google.com/assets/colab-badge.svg\" alt=\"Open In Colab\"/></a>"
      ]
    },
    {
      "cell_type": "markdown",
      "metadata": {
        "id": "tRIz0-4wgO7M"
      },
      "source": [
        "# Install DCMTK"
      ]
    },
    {
      "cell_type": "code",
      "metadata": {
        "id": "vGKrw1QEfAdK"
      },
      "source": [
        "!apt-get install -y dcmtk > /dev/null\n",
        "!apt-get install p7zip-full > /dev/null"
      ],
      "execution_count": null,
      "outputs": []
    },
    {
      "cell_type": "code",
      "metadata": {
        "id": "8fmj7fPSfd9x"
      },
      "source": [
        "%%shell\n",
        "# check dicom tag\n",
        "# https://manpages.debian.org/testing/dcmtk/dcmdump.1.en.html\n",
        "\n",
        "dcmdump -v -d dicom.dcm"
      ],
      "execution_count": null,
      "outputs": []
    },
    {
      "cell_type": "markdown",
      "metadata": {
        "id": "pH3miaQ3gNMq"
      },
      "source": [
        "# Gen"
      ]
    },
    {
      "cell_type": "code",
      "metadata": {
        "id": "Ek6LVOa6frYu"
      },
      "source": [
        "%%shell\n",
        "SECONDS=0\n",
        "\n",
        "patientID=\"hashimoto\" #@param {type:\"string\"}\n",
        "patientName=\"nakamura\" #@param {type:\"string\"}\n",
        "studyFrom=1 #@param {type: \"number\"}\n",
        "studyTo=10 #@param {type: \"number\"}\n",
        "seriesFrom=1 #@param {type: \"number\"}\n",
        "seriesTo=10 #@param {type: \"number\"}\n",
        "instanceFrom=1 #@param {type: \"number\"}\n",
        "instanceTo=100 #@param {type: \"number\"}\n",
        "studyUID=\"1.2.3.4.5.69\" #@param {type:\"string\"}\n",
        "seriesUID=1.2.392.200036.9116.2.5.1.3268.2046999452.1437113808.3853 #@param {type:\"string\"}\n",
        "instanceUID=1.2.392.200036.9116.2.5.1.3268.2046999452.1437113808.92107 #@param {type:\"string\"}\n",
        "studyDate=20190614 #@param {type: \"number\"}\n",
        "studyTime=010203  #@param {type: \"number\"}\n",
        "birthDate=20150502 #@param {type: \"number\"}\n",
        "modality=\"MR\" #@param [\"OT\", \"CT\", \"MR\", \"CR\", \"ES\", \"PT\", \"XA\", \"RF\", \"NM\", \"MG\", \"IO\", \"OP\", \"US\", \"ECG\", \"OPT\", \"OCT\", \"FS\", \"SC\", \"XC\", \"DX\", \"DR\"] {allow-input: true}\n",
        "bodyPart=\"HEAD\" #@param [\"HEAD\", \"LUNG\"] {allow-input: true}\n",
        "sex=\"F\" #@param [\"M\", \"F\", \"O\"] {allow-input: true}\n",
        "dicomFile=\"/gdrive/My Drive/NamNT/data/Gen_by_colab/dicom.dcm\" #@param {type:\"string\"}\n",
        "\n",
        "rm -r $patientID > /dev/null\n",
        "mkdir $patientID\n",
        "\n",
        "for i in $(seq $studyFrom $studyTo)\n",
        "do\n",
        "\techo \"create study $i\" \n",
        "\tfor j in $(seq $seriesFrom $seriesTo)\n",
        "\tdo\n",
        "\t\techo \"create series $j\"\n",
        "\t\tfor k in $(seq $instanceFrom $instanceTo)\n",
        "\t\tdo\n",
        "      #  echo \"create instance $k\"\n",
        "\t\t   cp \"/gdrive/My Drive/NamNT/data/Gen_by_colab/dicom.dcm\" $patientID/$i\\_$j\\_$k.dcm\n",
        "\n",
        "\t\t   dcmodify -m \"(0010,0020)=$patientID$i\" $patientID/$i\\_$j\\_$k.dcm        #Patient ID\n",
        "\t\t   dcmodify -m \"(0020,0010)=$patientID$i\" $patientID/$i\\_$j\\_$k.dcm        #Study ID\n",
        "\t\t   dcmodify -m \"(0010,0030)=$birthDate\" $patientID/$i\\_$j\\_$k.dcm          #Patient's Birth Date\n",
        "\t\t   dcmodify -m \"(0008,0020)=$studyDate\" $patientID/$i\\_$j\\_$k.dcm          #Study Date\n",
        "\t\t   dcmodify -m \"(0008,0030)=$studyTime\" $patientID/$i\\_$j\\_$k.dcm          #Study Time\n",
        "\t\t   dcmodify -m \"(0010,0010)=$patientName$i\" $patientID/$i\\_$j\\_$k.dcm      #Patient's Name\n",
        "\t\t  #  dcmodify -m \"(0008,0050)=1\" $patientID/$i\\_$j\\_$k.dcm                   #Accession Number\n",
        "\t\t   dcmodify -m \"(0008,0060)=$modality\" $patientID/$i\\_$j\\_$k.dcm           #Modality\n",
        "\t\t   dcmodify -m \"(0010,0040)=M\" $patientID/$i\\_$j\\_$k.dcm                   #Sex/\n",
        "\t\t   dcmodify -m \"(0018,0015)=$bodyPart\" $patientID/$i\\_$j\\_$k.dcm           #Body Part Examined\n",
        "\t\t   dcmodify -m \"(0020,0011)=$j\" $patientID/$i\\_$j\\_$k.dcm                  #Series Number\n",
        "\t\t   dcmodify -m \"(0020,0013)=$k\" $patientID/$i\\_$j\\_$k.dcm                  #Instance Number\n",
        "\t\t   # dcmodify -m \"(0008,0016)=2\" $patientID/$i\\_$j\\_$k.dcm                 #SOP Class UID\n",
        "\n",
        "\n",
        "\t\t   dcmodify -m \"(0020,000d)=$studyUID.$i\" $patientID/$i\\_$j\\_$k.dcm        #Study Instance UID\n",
        "\t\t   dcmodify -m \"(0020,000e)=$seriesUID.$j\" $patientID/$i\\_$j\\_$k.dcm       #Series Instance UID\n",
        "\t\t   dcmodify -m \"(0008,0018)=$instanceUID.$k\" $patientID/$i\\_$j\\_$k.dcm     #SOP Instance UID\n",
        "\t\tdone\n",
        "\tdone\n",
        "done\n",
        "\n",
        "rm $patientID/*bak \n",
        "\n",
        "echo \"Number of File\"\n",
        "ls $patientID | wc -l \n",
        "\n",
        "echo \"ZIP - 7z\"\n",
        "7z a $patientID.7z $patientID\n",
        "echo \"COPY to DRIVE\" \n",
        "cp $patientID.7z \"/gdrive/My Drive/NamNT/data\"\n",
        "\n",
        "echo \"DONE!!!\"\n",
        "\n",
        "duration=$SECONDS\n",
        "echo \"$(($duration / 60)) minutes and $(($duration % 60)) seconds elapsed.\""
      ],
      "execution_count": null,
      "outputs": []
    },
    {
      "cell_type": "code",
      "metadata": {
        "id": "kcRf-kwbfxYQ"
      },
      "source": [
        "modality=(OT CT MR CR ES PT XA RF NM MG IO OP US ECG OPT OCT FS SC XC DX DR)\n",
        "sex=(M F O)\n",
        "bodyPart=(CHEST LEGS ELBOW PELVIS SKULL HEAD LSSPINE HUMERUS ATLANTOOCCIPITAL WHOLEBODY FRONTALSINUS)\n",
        "stDate=(20210506 20210102 19980406 19690303 19990201 19980708 19500504 19290102 20110307 19800508)\n",
        "stTime=(010101 020202 030303 040301 111213 090909 080808 070711)\n",
        "\n",
        "for i in {1..10000}\n",
        "do\n",
        "   selectedModality=${modality[$RANDOM % ${#modality[@]}]}\n",
        "   selectedSex=${sex[$RANDOM % ${#sex[@]}]}\n",
        "   selectedBodyPart=${bodyPart[$RANDOM % ${#bodyPart[@]}]}\n",
        "   selectedStDate=${stDate[$RANDOM % ${#stDate[@]}]}\n",
        "   selectedStTime=${stTime[$RANDOM % ${#stTime[@]}]}  \n",
        "   \n",
        "\n",
        "\n",
        "   cp /home/mnes/ダウンロード/dicom.dcm $i.dcm\n",
        "   # cp /home/mnes01/Downloads/dicom_viewer_0003/0003.dcm $i.dcm\n",
        "\n",
        "   dcmodify -m \"(0010,0020)=pIDDumpData$i\" $i.dcm        #Patient ID\n",
        "   dcmodify -m \"(0020,0010)=sIDDumpData$i\" $i.dcm      #Study ID\n",
        "   dcmodify -m \"(0010,0030)=$selectedStDate\" $i.dcm     #Patient's Birth Date\n",
        "   dcmodify -m \"(0008,0020)=$selectedStDate\" $i.dcm     #Study Date\n",
        "   dcmodify -m \"(0008,0030)=$selectedStTime\" $i.dcm     #Study Time\n",
        "   dcmodify -m \"(0010,0010)=nDumpData$1\" $i.dcm      #Patient's Name\n",
        "   # dcmodify -m \"(0008,0050)=1\" $i.dcm           #Accession Number\n",
        "   dcmodify -m \"(0008,0060)=$selectedModality\" $i.dcm           #Modality\n",
        "   dcmodify -m \"(0010,0040)=$selectedSex\" $i.dcm           #Sex/\n",
        "   dcmodify -m \"(0018,0015)=$selectedBodyPart\" $i.dcm           #Body Part Examined\n",
        "   # dcmodify -m \"(0020,0011)=109\" $i.dcm           #Series Number\n",
        "   # dcmodify -m \"(0020,0013)=3\" $i.dcm           #Instance Number\n",
        "   # dcmodify -m \"(0008,0016)=2\" $i.dcm           #SOP Class UID\n",
        "\n",
        "\n",
        "   # 1.3.12.2.1107.5.4.3.4975316777216.19951114.94101.16\n",
        "   # dcmodify -m \"(0020,0013)=$i\" $i.dcm           #Instance Number\n",
        "   # dcmodify -m \"(0008,0050)=000006001\" $i.dcm           #Instance Number\n",
        "   dcmodify -m \"(0020,000d)=1.1.1102.$i\" $i.dcm   #Study Instance UID\n",
        "   # dcmodify -m \"(0020,000e)=1.2.392.200036.9116.2.5.1.3268.2046999452.1437113808.10000\" $i.dcm  #Series Instance UID\n",
        "   # dcmodify -m \"(0008,0018)=1.2.392.200036.9116.2.5.1.3268.2046999452.1437113808.92108\" $i.dcm     #SOP Instance UID\n",
        "done\n",
        "\n",
        "rm *bak"
      ],
      "execution_count": null,
      "outputs": []
    },
    {
      "cell_type": "code",
      "metadata": {
        "id": "6N8MByaZf2Wo"
      },
      "source": [
        "for i in {60..60}\n",
        "do\n",
        "   cp /Users/NamNT54/Downloads/dicom.dcm $i.dcm\n",
        "   # cp /home/mnes01/Downloads/dicom_viewer_0003/0003.dcm $i.dcm\n",
        "\n",
        "   dcmodify -m \"(0010,0020)=2n9addedUpload\" $i.dcm        #Patient ID\n",
        "   dcmodify -m \"(0020,0010)=2n9addedUpload\" $i.dcm      #Study ID\n",
        "   dcmodify -m \"(0010,0030)=19970403\" $i.dcm     #Patient's Birth Date\n",
        "   dcmodify -m \"(0008,0020)=20210218\" $i.dcm     #Study Date\n",
        "   dcmodify -m \"(0008,0030)=1330\" $i.dcm     #Study Time\n",
        "   dcmodify -m \"(0010,0010)=2n9addedUpload\" $i.dcm      #Patient's Name\n",
        "   # dcmodify -m \"(0008,0050)=1\" $i.dcm           #Accession Number\n",
        "   # dcmodify -m \"(0008,0060)=MR\" $i.dcm           #Modality\n",
        "   dcmodify -m \"(0010,0040)=M\" $i.dcm           #Sex/\n",
        "   # dcmodify -m \"(0018,0015)=HEAD\" $i.dcm           #Body Part Examined\n",
        "   # dcmodify -m \"(0020,0011)=109\" $i.dcm           #Series Number\n",
        "   # dcmodify -m \"(0020,0013)=2\" $i.dcm           #Instance Number\n",
        "   # dcmodify -m \"(0008,0016)=2\" $i.dcm           #SOP Class UID\n",
        "\n",
        "\n",
        "   # 1.3.12.2.1107.5.4.3.4975316777216.19951114.94101.16\n",
        "   dcmodify -m \"(0020,000d)=1.1.100.8008$i\" $i.dcm   #Study Instance UID\n",
        "   dcmodify -m \"(0020,000e)=1.2.392.200036.9116.2.5.1.3268.2046999452.1437113808.3858$i\" $i.dcm  #Series Instance UID\n",
        "   dcmodify -m \"(0008,0018)=1.2.392.200036.9116.2.5.1.3268.2046999452.1437113808.921089\" $i.dcm     #SOP Instance UID\n",
        "   \n",
        "done\n",
        "\n",
        "rm *bak"
      ],
      "execution_count": null,
      "outputs": []
    }
  ]
}