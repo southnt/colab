{
  "nbformat": 4,
  "nbformat_minor": 0,
  "metadata": {
    "colab": {
      "name": "JLPT_Result_Selenium.ipynb",
      "provenance": [],
      "collapsed_sections": [],
      "authorship_tag": "ABX9TyOtE57Xcmu8GkHCbZvwyhO6",
      "include_colab_link": true
    },
    "kernelspec": {
      "name": "python3",
      "display_name": "Python 3"
    },
    "language_info": {
      "name": "python"
    }
  },
  "cells": [
    {
      "cell_type": "markdown",
      "metadata": {
        "id": "view-in-github",
        "colab_type": "text"
      },
      "source": [
        "<a href=\"https://colab.research.google.com/github/southnt/colab/blob/main/JLPT_Result_Selenium.ipynb\" target=\"_parent\"><img src=\"https://colab.research.google.com/assets/colab-badge.svg\" alt=\"Open In Colab\"/></a>"
      ]
    },
    {
      "cell_type": "markdown",
      "source": [
        "# Doc\n",
        "https://my.jees-jlpt.jp/user/VCPGCLGN010.php"
      ],
      "metadata": {
        "id": "nFB9FLbCa6Kw"
      }
    },
    {
      "cell_type": "code",
      "execution_count": null,
      "metadata": {
        "colab": {
          "base_uri": "https://localhost:8080/"
        },
        "id": "KHDE8qzZPiht",
        "outputId": "61ca1ce8-4fbb-4235-c069-5f8439c586ba"
      },
      "outputs": [
        {
          "output_type": "stream",
          "name": "stdout",
          "text": [
            "\n",
            "WARNING: apt does not have a stable CLI interface. Use with caution in scripts.\n",
            "\n"
          ]
        }
      ],
      "source": [
        "# Install\n",
        "!apt-get update > /dev/null\n",
        "!apt install chromium-chromedriver > /dev/null\n",
        "!pip install selenium &> /dev/null"
      ]
    },
    {
      "cell_type": "code",
      "source": [
        "from selenium import webdriver\n",
        "from selenium.webdriver.common.keys import Keys\n",
        "from selenium.webdriver.support.ui import WebDriverWait\n",
        "from selenium.webdriver.common.by import By\n",
        "from selenium.webdriver.support import expected_conditions as EC\n",
        "import time, os\n",
        "\n",
        "\n",
        "# Github credentials\n",
        "username = \"umame\" #@param {type: \"string\"}\n",
        "password = \"pass\" #@param {type: \"string\"}\n",
        "\n",
        "# Setting Chrome webdriver\n",
        "options = webdriver.ChromeOptions()\n",
        "options.add_argument('--headless')\n",
        "options.add_argument('--no-sandbox')\n",
        "options.add_argument('--disable-dev-shm-usage')\n",
        "driver = webdriver.Chrome(options=options)\n",
        "\n",
        "\n",
        "# Login\n",
        "driver.get(\"https://my.jees-jlpt.jp/user/VCPGCLGN010.php\")\n",
        "driver.find_element(By.ID, \"txtMyPageID\").send_keys(username)\n",
        "driver.find_element(By.ID, \"pwdPassword\").send_keys(password)\n",
        "driver.find_element(By.ID, \"btnloginGlobal\").click()\n",
        "\n",
        "# driver.find_element(By.XPATH, \"//html/body/form/div[2]/div[3]/div/ul/li[5]/a\").click()\n",
        "WebDriverWait(driver, 2000).until(EC.visibility_of_element_located((By.XPATH, \"//html/body/form/div[2]/div[3]/div/ul/li[5]/a\"))).click()\n",
        "print(WebDriverWait(driver, 200).until(EC.visibility_of_element_located((By.XPATH, \"//html/body/form/div[2]/div[4]/div[2]/table[1]/tbody/tr[1]/td[5]/ruby/rb\"))).text)\n",
        "print(WebDriverWait(driver, 200).until(EC.visibility_of_element_located((By.XPATH, \"//html/body/form/div[2]/div[4]/div[2]/table[1]/tbody/tr[1]/td[6]\"))).text)"
      ],
      "metadata": {
        "id": "_dzzWDnYPuMl"
      },
      "execution_count": null,
      "outputs": []
    }
  ]
}